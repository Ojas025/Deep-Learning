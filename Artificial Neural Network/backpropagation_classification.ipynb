{
 "cells": [
  {
   "cell_type": "markdown",
   "id": "6bb98717",
   "metadata": {},
   "source": [
    "# **Backpropagation | Classification**"
   ]
  },
  {
   "cell_type": "code",
   "execution_count": 1,
   "id": "ed39fc06",
   "metadata": {},
   "outputs": [],
   "source": [
    "import numpy as np\n",
    "import pandas as pd"
   ]
  },
  {
   "cell_type": "code",
   "execution_count": 2,
   "id": "9184c78e",
   "metadata": {},
   "outputs": [
    {
     "data": {
      "text/html": [
       "<div>\n",
       "<style scoped>\n",
       "    .dataframe tbody tr th:only-of-type {\n",
       "        vertical-align: middle;\n",
       "    }\n",
       "\n",
       "    .dataframe tbody tr th {\n",
       "        vertical-align: top;\n",
       "    }\n",
       "\n",
       "    .dataframe thead th {\n",
       "        text-align: right;\n",
       "    }\n",
       "</style>\n",
       "<table border=\"1\" class=\"dataframe\">\n",
       "  <thead>\n",
       "    <tr style=\"text-align: right;\">\n",
       "      <th></th>\n",
       "      <th>cgpa</th>\n",
       "      <th>profile_score</th>\n",
       "      <th>package</th>\n",
       "    </tr>\n",
       "  </thead>\n",
       "  <tbody>\n",
       "    <tr>\n",
       "      <th>0</th>\n",
       "      <td>8</td>\n",
       "      <td>8</td>\n",
       "      <td>1</td>\n",
       "    </tr>\n",
       "    <tr>\n",
       "      <th>1</th>\n",
       "      <td>7</td>\n",
       "      <td>9</td>\n",
       "      <td>1</td>\n",
       "    </tr>\n",
       "    <tr>\n",
       "      <th>2</th>\n",
       "      <td>6</td>\n",
       "      <td>10</td>\n",
       "      <td>0</td>\n",
       "    </tr>\n",
       "    <tr>\n",
       "      <th>3</th>\n",
       "      <td>5</td>\n",
       "      <td>5</td>\n",
       "      <td>0</td>\n",
       "    </tr>\n",
       "  </tbody>\n",
       "</table>\n",
       "</div>"
      ],
      "text/plain": [
       "   cgpa  profile_score  package\n",
       "0     8              8        1\n",
       "1     7              9        1\n",
       "2     6             10        0\n",
       "3     5              5        0"
      ]
     },
     "execution_count": 2,
     "metadata": {},
     "output_type": "execute_result"
    }
   ],
   "source": [
    "df = pd.DataFrame([[8,8,1],[7,9,1],[6,10,0],[5,5,0]],columns=['cgpa','profile_score','package'])\n",
    "\n",
    "df"
   ]
  },
  {
   "cell_type": "code",
   "execution_count": 3,
   "id": "cfeafb73",
   "metadata": {},
   "outputs": [],
   "source": [
    "def initialize_parameters(layer_dims):\n",
    "    '''\n",
    "        Input: \n",
    "        - Architecture [2,2,1]\n",
    "        - 2 inputs, 1 hidden layer (2 nodes), 1 output node\n",
    "        \n",
    "        Output:\n",
    "        - Initialized Parameters ([w],[b]) \n",
    "    '''\n",
    "    \n",
    "    np.random.seed(3)\n",
    "    parameters = {}\n",
    "    \n",
    "    num_layers = len(layer_dims)\n",
    "    \n",
    "    for i in range(1,num_layers):\n",
    "        # number of parameters:\n",
    "        # layer_dims[i] * layer_dims[i - 1] + layer_dims[i]\n",
    "        \n",
    "        parameters['W' + str(i)] = np.ones((layer_dims[i - 1], layer_dims[i])) * 0.1\n",
    "        parameters['b' + str(i)] = np.zeros((layer_dims[i],1)) \n",
    "        \n",
    "    return parameters        \n",
    "           "
   ]
  },
  {
   "cell_type": "code",
   "execution_count": 4,
   "id": "ce248383",
   "metadata": {},
   "outputs": [
    {
     "data": {
      "text/plain": [
       "{'W1': array([[0.1, 0.1],\n",
       "        [0.1, 0.1]]),\n",
       " 'b1': array([[0.],\n",
       "        [0.]]),\n",
       " 'W2': array([[0.1],\n",
       "        [0.1]]),\n",
       " 'b2': array([[0.]])}"
      ]
     },
     "execution_count": 4,
     "metadata": {},
     "output_type": "execute_result"
    }
   ],
   "source": [
    "initialize_parameters([2,2,1])"
   ]
  },
  {
   "cell_type": "code",
   "execution_count": 5,
   "id": "3425a604",
   "metadata": {},
   "outputs": [],
   "source": [
    "def sigmoid(z):\n",
    "    return 1 / (1 + np.exp(-z))"
   ]
  },
  {
   "cell_type": "code",
   "execution_count": 6,
   "id": "7f07a707",
   "metadata": {},
   "outputs": [],
   "source": [
    "def linear_forward(O_prev,W,b):\n",
    "    z = np.dot(W.T,O_prev) + b\n",
    "    A = sigmoid(z)\n",
    "    \n",
    "    return A"
   ]
  },
  {
   "cell_type": "code",
   "execution_count": 7,
   "id": "91380e9b",
   "metadata": {},
   "outputs": [],
   "source": [
    "def forward_propagation(X,parameters):\n",
    "    '''\n",
    "        Receive a batch of inputs\n",
    "        For each layer:\n",
    "            For this set of parameters\n",
    "                Calculate the outputs\n",
    "                Use these outputs as inputs to the next layers\n",
    "        Output y_hat, and previous layer outputs   \n",
    "        \n",
    "        Returning intermediate outputs for Backpropagation                \n",
    "    '''\n",
    "    \n",
    "    # Number of Layers\n",
    "    L = len(parameters) // 2 \n",
    "    \n",
    "    # Batch of Inputs\n",
    "    O = X\n",
    "    \n",
    "    for i in range(1,L+1):\n",
    "        # The previous output is now the input to this layer\n",
    "        O_prev = O \n",
    "        \n",
    "        # Retrieve the parameters for this layer\n",
    "        W = parameters['W' + str(i)]\n",
    "        b = parameters['b' + str(i)]\n",
    "        \n",
    "        # PRINT\n",
    "        # print(\"O\" + str(i-1) + \": \", O_prev)\n",
    "        # print(\"W\" + str(i) + \": \", W)\n",
    "        # print(\"O\" + str(i) + \": \", b)\n",
    "        # print(\"--\"*20)\n",
    "        \n",
    "        # Calculate the linear output\n",
    "        O = linear_forward(O_prev,W,b) \n",
    "        # print(\"O\" + str(i) + \": \", O)\n",
    "        # print(\"--\"*20)\n",
    "    \n",
    "    return O,O_prev         "
   ]
  },
  {
   "cell_type": "code",
   "execution_count": 8,
   "id": "d8b23635",
   "metadata": {},
   "outputs": [],
   "source": [
    "def update_parameters(parameters,y,y_hat,O_prev,X):\n",
    "    # 2nd Layer \n",
    "    parameters['W2'][0][0] += 0.0001 * (y - y_hat) * O_prev[0][0] \n",
    "    parameters['W2'][1][0] += 0.0001 * (y - y_hat) * O_prev[1][0] \n",
    "    parameters['b2'][0][0] += 0.0001 * (y - y_hat) \n",
    "    \n",
    "    # 1st Layer\n",
    "    parameters['W1'][0][0] += 0.0001 * (y - y_hat) * parameters['W2'][0][0] * O_prev[0][0] * (1 - O_prev[0][0]) * X[0][0]\n",
    "    parameters['W1'][0][1] += 0.0001 * (y - y_hat) * parameters['W2'][0][0] * O_prev[0][0] * (1 - O_prev[0][0]) * X[1][0]\n",
    "    parameters['b1'][0][0] += 0.0001 * (y - y_hat) * parameters['W2'][0][0] * O_prev[0][0] * (1 - O_prev[0][0]) \n",
    "    \n",
    "    parameters['W1'][1][0] += 0.0001 * (y - y_hat) * parameters['W2'][1][0] * O_prev[1][0] * (1 - O_prev[1][0]) * X[0][0]\n",
    "    parameters['W1'][1][1] += 0.0001 * (y - y_hat) * parameters['W2'][1][0] * O_prev[1][0] * (1 - O_prev[1][0]) * X[1][0]\n",
    "    parameters['b1'][1][0] += 0.0001 * (y - y_hat) * parameters['W2'][1][0] * O_prev[1][0] * (1 - O_prev[1][0])"
   ]
  },
  {
   "cell_type": "code",
   "execution_count": 15,
   "id": "0802dc5a",
   "metadata": {},
   "outputs": [],
   "source": [
    "def run(num_epochs=5):\n",
    "    parameters = initialize_parameters([2,2,1])\n",
    "    \n",
    "    for i in range(num_epochs):\n",
    "        loss = []\n",
    "        for j in range(df.shape[0]):\n",
    "            X = df[['cgpa','profile_score']].values[j].reshape(2,1)\n",
    "            y = df[['package']].values[j][0]\n",
    "            \n",
    "            y_hat,O_prev = forward_propagation(X,parameters)\n",
    "            y_hat = y_hat[0][0]\n",
    "            update_parameters(parameters,y,y_hat,O_prev,X)\n",
    "            \n",
    "            e = -y * np.log(y_hat) - (1 - y) * np.log(1 - y_hat)\n",
    "            loss.append(e)\n",
    "        \n",
    "        print(\"Epoch - \",i+1, \" Loss - \",np.array(loss).mean()) \n",
    "    \n",
    "    return parameters                    "
   ]
  },
  {
   "cell_type": "code",
   "execution_count": 16,
   "id": "c82da550",
   "metadata": {},
   "outputs": [
    {
     "name": "stdout",
     "output_type": "stream",
     "text": [
      "Epoch -  1  Loss -  0.6939124309994983\n",
      "Epoch -  2  Loss -  0.6939114509742006\n",
      "Epoch -  3  Loss -  0.6939104713855384\n",
      "Epoch -  4  Loss -  0.6939094922333021\n",
      "Epoch -  5  Loss -  0.6939085135172819\n",
      "Epoch -  6  Loss -  0.6939075352372682\n",
      "Epoch -  7  Loss -  0.6939065573930516\n",
      "Epoch -  8  Loss -  0.6939055799844227\n",
      "Epoch -  9  Loss -  0.6939046030111722\n",
      "Epoch -  10  Loss -  0.693903626473091\n",
      "Epoch -  11  Loss -  0.6939026503699699\n",
      "Epoch -  12  Loss -  0.6939016747016002\n",
      "Epoch -  13  Loss -  0.6939006994677729\n",
      "Epoch -  14  Loss -  0.6938997246682792\n",
      "Epoch -  15  Loss -  0.6938987503029107\n",
      "Epoch -  16  Loss -  0.6938977763714584\n",
      "Epoch -  17  Loss -  0.6938968028737142\n",
      "Epoch -  18  Loss -  0.6938958298094697\n",
      "Epoch -  19  Loss -  0.6938948571785166\n",
      "Epoch -  20  Loss -  0.6938938849806471\n",
      "Epoch -  21  Loss -  0.6938929132156526\n",
      "Epoch -  22  Loss -  0.6938919418833256\n",
      "Epoch -  23  Loss -  0.6938909709834581\n",
      "Epoch -  24  Loss -  0.6938900005158424\n",
      "Epoch -  25  Loss -  0.6938890304802711\n",
      "Epoch -  26  Loss -  0.6938880608765363\n",
      "Epoch -  27  Loss -  0.6938870917044309\n",
      "Epoch -  28  Loss -  0.6938861229637474\n",
      "Epoch -  29  Loss -  0.6938851546542789\n",
      "Epoch -  30  Loss -  0.6938841867758179\n",
      "Epoch -  31  Loss -  0.6938832193281578\n",
      "Epoch -  32  Loss -  0.6938822523110912\n",
      "Epoch -  33  Loss -  0.6938812857244119\n",
      "Epoch -  34  Loss -  0.6938803195679129\n",
      "Epoch -  35  Loss -  0.6938793538413872\n",
      "Epoch -  36  Loss -  0.6938783885446289\n",
      "Epoch -  37  Loss -  0.6938774236774317\n",
      "Epoch -  38  Loss -  0.693876459239589\n",
      "Epoch -  39  Loss -  0.6938754952308946\n",
      "Epoch -  40  Loss -  0.6938745316511425\n",
      "Epoch -  41  Loss -  0.6938735685001267\n",
      "Epoch -  42  Loss -  0.6938726057776414\n",
      "Epoch -  43  Loss -  0.6938716434834808\n",
      "Epoch -  44  Loss -  0.6938706816174391\n",
      "Epoch -  45  Loss -  0.6938697201793111\n",
      "Epoch -  46  Loss -  0.6938687591688908\n",
      "Epoch -  47  Loss -  0.6938677985859731\n",
      "Epoch -  48  Loss -  0.693866838430353\n",
      "Epoch -  49  Loss -  0.6938658787018248\n",
      "Epoch -  50  Loss -  0.6938649194001839\n",
      "Epoch -  51  Loss -  0.693863960525225\n",
      "Epoch -  52  Loss -  0.6938630020767436\n",
      "Epoch -  53  Loss -  0.6938620440545347\n",
      "Epoch -  54  Loss -  0.6938610864583935\n",
      "Epoch -  55  Loss -  0.6938601292881158\n",
      "Epoch -  56  Loss -  0.693859172543497\n",
      "Epoch -  57  Loss -  0.6938582162243325\n",
      "Epoch -  58  Loss -  0.6938572603304185\n",
      "Epoch -  59  Loss -  0.6938563048615507\n",
      "Epoch -  60  Loss -  0.6938553498175248\n",
      "Epoch -  61  Loss -  0.6938543951981371\n",
      "Epoch -  62  Loss -  0.6938534410031836\n",
      "Epoch -  63  Loss -  0.6938524872324607\n",
      "Epoch -  64  Loss -  0.6938515338857647\n",
      "Epoch -  65  Loss -  0.6938505809628922\n",
      "Epoch -  66  Loss -  0.6938496284636393\n",
      "Epoch -  67  Loss -  0.693848676387803\n",
      "Epoch -  68  Loss -  0.6938477247351801\n",
      "Epoch -  69  Loss -  0.6938467735055676\n",
      "Epoch -  70  Loss -  0.6938458226987619\n",
      "Epoch -  71  Loss -  0.6938448723145605\n",
      "Epoch -  72  Loss -  0.6938439223527605\n",
      "Epoch -  73  Loss -  0.6938429728131591\n",
      "Epoch -  74  Loss -  0.6938420236955536\n",
      "Epoch -  75  Loss -  0.6938410749997416\n",
      "Epoch -  76  Loss -  0.6938401267255205\n",
      "Epoch -  77  Loss -  0.6938391788726882\n",
      "Epoch -  78  Loss -  0.6938382314410422\n",
      "Epoch -  79  Loss -  0.6938372844303805\n",
      "Epoch -  80  Loss -  0.693836337840501\n",
      "Epoch -  81  Loss -  0.6938353916712019\n",
      "Epoch -  82  Loss -  0.6938344459222812\n",
      "Epoch -  83  Loss -  0.693833500593537\n",
      "Epoch -  84  Loss -  0.6938325556847681\n",
      "Epoch -  85  Loss -  0.6938316111957727\n",
      "Epoch -  86  Loss -  0.6938306671263494\n",
      "Epoch -  87  Loss -  0.6938297234762968\n",
      "Epoch -  88  Loss -  0.6938287802454137\n",
      "Epoch -  89  Loss -  0.6938278374334989\n",
      "Epoch -  90  Loss -  0.6938268950403516\n",
      "Epoch -  91  Loss -  0.6938259530657704\n",
      "Epoch -  92  Loss -  0.693825011509555\n",
      "Epoch -  93  Loss -  0.6938240703715043\n",
      "Epoch -  94  Loss -  0.6938231296514175\n",
      "Epoch -  95  Loss -  0.6938221893490946\n",
      "Epoch -  96  Loss -  0.6938212494643348\n",
      "Epoch -  97  Loss -  0.6938203099969376\n",
      "Epoch -  98  Loss -  0.6938193709467031\n",
      "Epoch -  99  Loss -  0.6938184323134309\n",
      "Epoch -  100  Loss -  0.6938174940969212\n"
     ]
    }
   ],
   "source": [
    "parameters = run(100)"
   ]
  },
  {
   "cell_type": "code",
   "execution_count": 17,
   "id": "71b41d25",
   "metadata": {},
   "outputs": [
    {
     "data": {
      "text/plain": [
       "{'W1': array([[0.09998161, 0.09980799],\n",
       "        [0.09998186, 0.0998081 ]]),\n",
       " 'b1': array([[-5.25243134e-05],\n",
       "        [-5.25178867e-05]]),\n",
       " 'W2': array([[0.09921275],\n",
       "        [0.09921293]]),\n",
       " 'b2': array([[-0.00159669]])}"
      ]
     },
     "execution_count": 17,
     "metadata": {},
     "output_type": "execute_result"
    }
   ],
   "source": [
    "parameters"
   ]
  }
 ],
 "metadata": {
  "kernelspec": {
   "display_name": ".venv (3.12.5)",
   "language": "python",
   "name": "python3"
  },
  "language_info": {
   "codemirror_mode": {
    "name": "ipython",
    "version": 3
   },
   "file_extension": ".py",
   "mimetype": "text/x-python",
   "name": "python",
   "nbconvert_exporter": "python",
   "pygments_lexer": "ipython3",
   "version": "3.12.5"
  }
 },
 "nbformat": 4,
 "nbformat_minor": 5
}
