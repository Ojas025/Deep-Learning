{
 "cells": [
  {
   "cell_type": "markdown",
   "id": "f05aac48",
   "metadata": {},
   "source": [
    "# **Backpropagation**"
   ]
  },
  {
   "cell_type": "code",
   "execution_count": 2,
   "id": "f0d30397",
   "metadata": {},
   "outputs": [],
   "source": [
    "import numpy as np\n",
    "import pandas as pd"
   ]
  },
  {
   "cell_type": "code",
   "execution_count": 3,
   "id": "7b7bee3d",
   "metadata": {},
   "outputs": [
    {
     "data": {
      "text/html": [
       "<div>\n",
       "<style scoped>\n",
       "    .dataframe tbody tr th:only-of-type {\n",
       "        vertical-align: middle;\n",
       "    }\n",
       "\n",
       "    .dataframe tbody tr th {\n",
       "        vertical-align: top;\n",
       "    }\n",
       "\n",
       "    .dataframe thead th {\n",
       "        text-align: right;\n",
       "    }\n",
       "</style>\n",
       "<table border=\"1\" class=\"dataframe\">\n",
       "  <thead>\n",
       "    <tr style=\"text-align: right;\">\n",
       "      <th></th>\n",
       "      <th>cgpa</th>\n",
       "      <th>profile_score</th>\n",
       "      <th>package</th>\n",
       "    </tr>\n",
       "  </thead>\n",
       "  <tbody>\n",
       "    <tr>\n",
       "      <th>0</th>\n",
       "      <td>8</td>\n",
       "      <td>8</td>\n",
       "      <td>4</td>\n",
       "    </tr>\n",
       "    <tr>\n",
       "      <th>1</th>\n",
       "      <td>7</td>\n",
       "      <td>9</td>\n",
       "      <td>5</td>\n",
       "    </tr>\n",
       "    <tr>\n",
       "      <th>2</th>\n",
       "      <td>6</td>\n",
       "      <td>10</td>\n",
       "      <td>6</td>\n",
       "    </tr>\n",
       "    <tr>\n",
       "      <th>3</th>\n",
       "      <td>5</td>\n",
       "      <td>12</td>\n",
       "      <td>7</td>\n",
       "    </tr>\n",
       "  </tbody>\n",
       "</table>\n",
       "</div>"
      ],
      "text/plain": [
       "   cgpa  profile_score  package\n",
       "0     8              8        4\n",
       "1     7              9        5\n",
       "2     6             10        6\n",
       "3     5             12        7"
      ]
     },
     "execution_count": 3,
     "metadata": {},
     "output_type": "execute_result"
    }
   ],
   "source": [
    "df = pd.DataFrame([[8,8,4],[7,9,5],[6,10,6],[5,12,7]],columns=['cgpa','profile_score','package'])\n",
    "\n",
    "df"
   ]
  },
  {
   "cell_type": "code",
   "execution_count": 4,
   "id": "6a82abbe",
   "metadata": {},
   "outputs": [],
   "source": [
    "def initialize_parameters(layer_dims):\n",
    "    '''\n",
    "        Input: \n",
    "        - Architecture [2,2,1]\n",
    "        - 2 inputs, 1 hidden layer (2 nodes), 1 output node\n",
    "        \n",
    "        Output:\n",
    "        - Initialized Parameters ([w],[b]) \n",
    "    '''\n",
    "    \n",
    "    np.random.seed(3)\n",
    "    parameters = {}\n",
    "    \n",
    "    num_layers = len(layer_dims)\n",
    "    \n",
    "    for i in range(1,num_layers):\n",
    "        # number of parameters:\n",
    "        # layer_dims[i] * layer_dims[i - 1] + layer_dims[i]\n",
    "        \n",
    "        parameters['W' + str(i)] = np.ones((layer_dims[i - 1], layer_dims[i])) * 0.1\n",
    "        parameters['b' + str(i)] = np.zeros((layer_dims[i],1)) \n",
    "        \n",
    "    return parameters        \n",
    "           "
   ]
  },
  {
   "cell_type": "code",
   "execution_count": 5,
   "id": "2f9e538e",
   "metadata": {},
   "outputs": [
    {
     "data": {
      "text/plain": [
       "{'W1': array([[0.1, 0.1],\n",
       "        [0.1, 0.1]]),\n",
       " 'b1': array([[0.],\n",
       "        [0.]]),\n",
       " 'W2': array([[0.1],\n",
       "        [0.1]]),\n",
       " 'b2': array([[0.]])}"
      ]
     },
     "execution_count": 5,
     "metadata": {},
     "output_type": "execute_result"
    }
   ],
   "source": [
    "initialize_parameters([2,2,1])"
   ]
  },
  {
   "cell_type": "code",
   "execution_count": 6,
   "id": "5a889fe2",
   "metadata": {},
   "outputs": [],
   "source": [
    "def linear_forward(O_prev,W,b):\n",
    "    return np.dot(W.T,O_prev) + b"
   ]
  },
  {
   "cell_type": "code",
   "execution_count": 17,
   "id": "387ebd15",
   "metadata": {},
   "outputs": [],
   "source": [
    "def forward_propagation(X,parameters):\n",
    "    '''\n",
    "        Receive a batch of inputs\n",
    "        For each layer:\n",
    "            For this set of parameters\n",
    "                Calculate the outputs\n",
    "                Use these outputs as inputs to the next layers\n",
    "        Output y_hat, and previous layer outputs   \n",
    "        \n",
    "        Returning intermediate outputs for Backpropagation                \n",
    "    '''\n",
    "    \n",
    "    # Number of Layers\n",
    "    L = len(parameters) // 2 \n",
    "    \n",
    "    # Batch of Inputs\n",
    "    O = X\n",
    "    \n",
    "    for i in range(1,L+1):\n",
    "        # The previous output is now the input to this layer\n",
    "        O_prev = O \n",
    "        \n",
    "        # Retrieve the parameters for this layer\n",
    "        W = parameters['W' + str(i)]\n",
    "        b = parameters['b' + str(i)]\n",
    "        \n",
    "        # PRINT\n",
    "        # print(\"O\" + str(i-1) + \": \", O_prev)\n",
    "        # print(\"W\" + str(i) + \": \", W)\n",
    "        # print(\"O\" + str(i) + \": \", b)\n",
    "        # print(\"--\"*20)\n",
    "        \n",
    "        # Calculate the linear output\n",
    "        O = linear_forward(O_prev,W,b) \n",
    "        # print(\"O\" + str(i) + \": \", O)\n",
    "        # print(\"--\"*20)\n",
    "    \n",
    "    return O,O_prev         "
   ]
  },
  {
   "cell_type": "code",
   "execution_count": 8,
   "id": "d19c8c02",
   "metadata": {},
   "outputs": [
    {
     "name": "stdout",
     "output_type": "stream",
     "text": [
      "O0:  [[8]\n",
      " [8]]\n",
      "W1:  [[0.1 0.1]\n",
      " [0.1 0.1]]\n",
      "O1:  [[0.]\n",
      " [0.]]\n",
      "----------------------------------------\n",
      "O1:  [[1.6]\n",
      " [1.6]]\n",
      "----------------------------------------\n",
      "O1:  [[1.6]\n",
      " [1.6]]\n",
      "W2:  [[0.1]\n",
      " [0.1]]\n",
      "O2:  [[0.]]\n",
      "----------------------------------------\n",
      "O2:  [[0.32]]\n",
      "----------------------------------------\n"
     ]
    }
   ],
   "source": [
    "X = df[['cgpa','profile_score']].values[0].reshape(2,1)\n",
    "y = df[['package']].values[0][0]    \n",
    "\n",
    "parameters = initialize_parameters([2,2,1])\n",
    "\n",
    "y_hat,O_prev = forward_propagation(X,parameters)"
   ]
  },
  {
   "cell_type": "code",
   "execution_count": 9,
   "id": "ec26513f",
   "metadata": {},
   "outputs": [
    {
     "data": {
      "text/plain": [
       "np.float64(0.32000000000000006)"
      ]
     },
     "execution_count": 9,
     "metadata": {},
     "output_type": "execute_result"
    }
   ],
   "source": [
    "y_hat = y_hat[0][0]\n",
    "\n",
    "y_hat"
   ]
  },
  {
   "cell_type": "code",
   "execution_count": 10,
   "id": "046434aa",
   "metadata": {},
   "outputs": [
    {
     "data": {
      "text/plain": [
       "array([[1.6],\n",
       "       [1.6]])"
      ]
     },
     "execution_count": 10,
     "metadata": {},
     "output_type": "execute_result"
    }
   ],
   "source": [
    "O_prev"
   ]
  },
  {
   "cell_type": "code",
   "execution_count": 11,
   "id": "ae8d9a29",
   "metadata": {},
   "outputs": [],
   "source": [
    "def update_parameters(parameters,y,y_hat,O_prev,X):\n",
    "    # 2nd Layer \n",
    "    parameters['W2'][0][0] += 0.001 * 2 * (y - y_hat) * O_prev[0][0] \n",
    "    parameters['W2'][1][0] += 0.001 * 2 * (y - y_hat) * O_prev[1][0] \n",
    "    parameters['b2'][0][0] += 0.001 * 2 * (y - y_hat) \n",
    "    \n",
    "    # 1st Layer\n",
    "    parameters['W1'][0][0] += 0.001 * 2 * (y - y_hat) * parameters['W2'][0][0] * X[0][0]\n",
    "    parameters['W1'][0][1] += 0.001 * 2 * (y - y_hat) * parameters['W2'][0][0] * X[1][0]\n",
    "    parameters['b1'][0][0] += 0.001 * 2 * (y - y_hat) * parameters['W2'][0][0] \n",
    "    \n",
    "    parameters['W1'][1][0] += 0.001 * 2 * (y - y_hat) * parameters['W2'][1][0] * X[0][0]\n",
    "    parameters['W1'][1][1] += 0.001 * 2 * (y - y_hat) * parameters['W2'][1][0] * X[1][0]\n",
    "    parameters['b1'][1][0] += 0.001 * 2 * (y - y_hat) * parameters['W2'][1][0] "
   ]
  },
  {
   "cell_type": "code",
   "execution_count": 12,
   "id": "4088dd6d",
   "metadata": {},
   "outputs": [
    {
     "data": {
      "text/plain": [
       "{'W1': array([[0.10658137, 0.10658137],\n",
       "        [0.10658137, 0.10658137]]),\n",
       " 'b1': array([[0.00082267],\n",
       "        [0.00082267]]),\n",
       " 'W2': array([[0.111776],\n",
       "        [0.111776]]),\n",
       " 'b2': array([[0.00736]])}"
      ]
     },
     "execution_count": 12,
     "metadata": {},
     "output_type": "execute_result"
    }
   ],
   "source": [
    "update_parameters(parameters,y,y_hat,O_prev,X)\n",
    "\n",
    "parameters"
   ]
  },
  {
   "cell_type": "code",
   "execution_count": 13,
   "id": "b8ca9187",
   "metadata": {},
   "outputs": [
    {
     "name": "stdout",
     "output_type": "stream",
     "text": [
      "O0:  [[ 5]\n",
      " [12]]\n",
      "W1:  [[0.10658137 0.10658137]\n",
      " [0.10658137 0.10658137]]\n",
      "O1:  [[0.00082267]\n",
      " [0.00082267]]\n",
      "----------------------------------------\n",
      "O1:  [[1.81270598]\n",
      " [1.81270598]]\n",
      "----------------------------------------\n",
      "O1:  [[1.81270598]\n",
      " [1.81270598]]\n",
      "W2:  [[0.111776]\n",
      " [0.111776]]\n",
      "O2:  [[0.00736]]\n",
      "----------------------------------------\n",
      "O2:  [[0.41259405]]\n",
      "----------------------------------------\n"
     ]
    }
   ],
   "source": [
    "X = df[['cgpa','profile_score']].values[3].reshape(2,1)\n",
    "y = df[['package']].values[3][0]    \n",
    "\n",
    "y_hat,O_prev = forward_propagation(X,parameters)"
   ]
  },
  {
   "cell_type": "code",
   "execution_count": 14,
   "id": "471287ae",
   "metadata": {},
   "outputs": [
    {
     "name": "stderr",
     "output_type": "stream",
     "text": [
      "C:\\Users\\Admin\\AppData\\Local\\Temp\\ipykernel_25748\\2767913886.py:3: DeprecationWarning: Conversion of an array with ndim > 0 to a scalar is deprecated, and will error in future. Ensure you extract a single element from your array before performing this operation. (Deprecated NumPy 1.25.)\n",
      "  parameters['W2'][0][0] += 0.001 * 2 * (y - y_hat) * O_prev[0][0]\n",
      "C:\\Users\\Admin\\AppData\\Local\\Temp\\ipykernel_25748\\2767913886.py:4: DeprecationWarning: Conversion of an array with ndim > 0 to a scalar is deprecated, and will error in future. Ensure you extract a single element from your array before performing this operation. (Deprecated NumPy 1.25.)\n",
      "  parameters['W2'][1][0] += 0.001 * 2 * (y - y_hat) * O_prev[1][0]\n",
      "C:\\Users\\Admin\\AppData\\Local\\Temp\\ipykernel_25748\\2767913886.py:5: DeprecationWarning: Conversion of an array with ndim > 0 to a scalar is deprecated, and will error in future. Ensure you extract a single element from your array before performing this operation. (Deprecated NumPy 1.25.)\n",
      "  parameters['b2'][0][0] += 0.001 * 2 * (y - y_hat)\n",
      "C:\\Users\\Admin\\AppData\\Local\\Temp\\ipykernel_25748\\2767913886.py:8: DeprecationWarning: Conversion of an array with ndim > 0 to a scalar is deprecated, and will error in future. Ensure you extract a single element from your array before performing this operation. (Deprecated NumPy 1.25.)\n",
      "  parameters['W1'][0][0] += 0.001 * 2 * (y - y_hat) * parameters['W2'][0][0] * X[0][0]\n",
      "C:\\Users\\Admin\\AppData\\Local\\Temp\\ipykernel_25748\\2767913886.py:9: DeprecationWarning: Conversion of an array with ndim > 0 to a scalar is deprecated, and will error in future. Ensure you extract a single element from your array before performing this operation. (Deprecated NumPy 1.25.)\n",
      "  parameters['W1'][0][1] += 0.001 * 2 * (y - y_hat) * parameters['W2'][0][0] * X[1][0]\n",
      "C:\\Users\\Admin\\AppData\\Local\\Temp\\ipykernel_25748\\2767913886.py:10: DeprecationWarning: Conversion of an array with ndim > 0 to a scalar is deprecated, and will error in future. Ensure you extract a single element from your array before performing this operation. (Deprecated NumPy 1.25.)\n",
      "  parameters['b1'][0][0] += 0.001 * 2 * (y - y_hat) * parameters['W2'][0][0]\n",
      "C:\\Users\\Admin\\AppData\\Local\\Temp\\ipykernel_25748\\2767913886.py:12: DeprecationWarning: Conversion of an array with ndim > 0 to a scalar is deprecated, and will error in future. Ensure you extract a single element from your array before performing this operation. (Deprecated NumPy 1.25.)\n",
      "  parameters['W1'][1][0] += 0.001 * 2 * (y - y_hat) * parameters['W2'][1][0] * X[0][0]\n",
      "C:\\Users\\Admin\\AppData\\Local\\Temp\\ipykernel_25748\\2767913886.py:13: DeprecationWarning: Conversion of an array with ndim > 0 to a scalar is deprecated, and will error in future. Ensure you extract a single element from your array before performing this operation. (Deprecated NumPy 1.25.)\n",
      "  parameters['W1'][1][1] += 0.001 * 2 * (y - y_hat) * parameters['W2'][1][0] * X[1][0]\n",
      "C:\\Users\\Admin\\AppData\\Local\\Temp\\ipykernel_25748\\2767913886.py:14: DeprecationWarning: Conversion of an array with ndim > 0 to a scalar is deprecated, and will error in future. Ensure you extract a single element from your array before performing this operation. (Deprecated NumPy 1.25.)\n",
      "  parameters['b1'][1][0] += 0.001 * 2 * (y - y_hat) * parameters['W2'][1][0]\n"
     ]
    },
    {
     "data": {
      "text/plain": [
       "{'W1': array([[0.11551772, 0.1280286 ],\n",
       "        [0.11551772, 0.1280286 ]]),\n",
       " 'b1': array([[0.00260994],\n",
       "        [0.00260994]]),\n",
       " 'W2': array([[0.13565806],\n",
       "        [0.13565806]]),\n",
       " 'b2': array([[0.02053481]])}"
      ]
     },
     "execution_count": 14,
     "metadata": {},
     "output_type": "execute_result"
    }
   ],
   "source": [
    "update_parameters(parameters,y,y_hat,O_prev,X)\n",
    "\n",
    "parameters"
   ]
  },
  {
   "cell_type": "code",
   "execution_count": 22,
   "id": "8c30079b",
   "metadata": {},
   "outputs": [],
   "source": [
    "def run():\n",
    "    parameters = initialize_parameters([2,2,1])\n",
    "    epochs = 5\n",
    "    \n",
    "    for i in range(epochs):\n",
    "        loss = []\n",
    "        for j in range(df.shape[0]):\n",
    "            X = df[['cgpa','profile_score']].values[j].reshape(2,1)\n",
    "            y = df[['package']].values[j][0]\n",
    "            \n",
    "            y_hat,O_prev = forward_propagation(X,parameters)\n",
    "            y_hat = y_hat[0][0]\n",
    "            update_parameters(parameters,y,y_hat,O_prev,X)\n",
    "            \n",
    "            e = (y - y_hat)**2\n",
    "            loss.append(e)\n",
    "        \n",
    "        print(\"Epoch - \",i+1, \" Loss - \",np.array(loss).mean()) \n",
    "    \n",
    "    parameters                    "
   ]
  },
  {
   "cell_type": "code",
   "execution_count": 23,
   "id": "ab09fee7",
   "metadata": {},
   "outputs": [
    {
     "name": "stdout",
     "output_type": "stream",
     "text": [
      "Epoch -  1  Loss -  26.28249792398698\n",
      "Epoch -  2  Loss -  19.438253848220803\n",
      "Epoch -  3  Loss -  10.13987443582752\n",
      "Epoch -  4  Loss -  3.385561305106485\n",
      "Epoch -  5  Loss -  1.3198454128484565\n"
     ]
    }
   ],
   "source": [
    "run()"
   ]
  }
 ],
 "metadata": {
  "kernelspec": {
   "display_name": ".venv (3.12.5)",
   "language": "python",
   "name": "python3"
  },
  "language_info": {
   "codemirror_mode": {
    "name": "ipython",
    "version": 3
   },
   "file_extension": ".py",
   "mimetype": "text/x-python",
   "name": "python",
   "nbconvert_exporter": "python",
   "pygments_lexer": "ipython3",
   "version": "3.12.5"
  }
 },
 "nbformat": 4,
 "nbformat_minor": 5
}
